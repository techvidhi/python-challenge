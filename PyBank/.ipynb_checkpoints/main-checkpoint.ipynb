{
 "cells": [
  {
   "cell_type": "code",
   "execution_count": 13,
   "id": "4d39887c-f4d7-4f83-bf4b-05dfef1d4ca5",
   "metadata": {},
   "outputs": [
    {
     "name": "stdout",
     "output_type": "stream",
     "text": [
      "Financial Analysis\n",
      "-------------------------------\n",
      "Total Months: 86\n",
      "Total: $38382578\n",
      "Average Change: $-2315.1176470588234\n",
      "Greatest Increase in Profits: $1926159\n",
      "Greatest Decrease in Profits: $-2196167\n"
     ]
    }
   ],
   "source": [
    "# Initialize empty list for date and profit_loss data\n",
    "profit_loss = []\n",
    "date = []\n",
    "\n",
    "# Read the budget data file \n",
    "with open('budget_data.csv') as file:\n",
    "    # split the budget data to a list \n",
    "    budget_data = file.read().splitlines()\n",
    "    \n",
    "    # Delete the first row which specifies column names\n",
    "    del budget_data[0]\n",
    " \n",
    "    # iterate through budget_data and split further using comma separator   \n",
    "    for i in budget_data:\n",
    "        initial_data = i.split(',')\n",
    "        \n",
    "        ## Question 1 - Append the first item from each initial data list for every iteration to months variable\n",
    "        months = initial_data[0]\n",
    "        date.append(months)\n",
    "        \n",
    "        ## Question 2 - Append the second item from each initial data list for every iteration to amount variable\n",
    "        amount = int(initial_data[1])\n",
    "        profit_loss.append(amount)\n",
    "        \n",
    "    # Print the results\n",
    "    print(\"Financial Analysis\")\n",
    "    print(\"-------------------------------\")\n",
    "    print(\"Total Months:\", len(date))\n",
    "    print(\"Total: $\" + str(sum(profit_loss)))\n",
    "    \n",
    "    ## define function to calculate the changes in profit and loss over the entire period\n",
    "    def diff_consecutive_months(nums):\n",
    "        list_changes = [b-a for a, b in zip(nums[:-1], nums[1:])]\n",
    "        return list_changes\n",
    "    \n",
    "    ## Initialize output for diff_consecutive_months function to list of profit-losses\n",
    "    profit_loss_list = diff_consecutive_months(profit_loss)\n",
    "    \n",
    "    ## Print Average change in profit and loss\n",
    "    print(\"Average Change: $\" + str(sum(profit_loss_list)/(len(date)-1)))\n",
    "    \n",
    "    ## Print Greatest Increase in profits\n",
    "    print(\"Greatest Increase in Profits: $\" + str(max(profit_loss_list)))\n",
    "    \n",
    "    ## Print Greatest Decrease in profts\n",
    "    print(\"Greatest Decrease in Profits: $\" + str(min(profit_loss_list)))\n",
    "        "
   ]
  },
  {
   "cell_type": "code",
   "execution_count": null,
   "id": "03d825b0-e168-4319-928b-93592cbcd8ac",
   "metadata": {},
   "outputs": [],
   "source": []
  },
  {
   "cell_type": "code",
   "execution_count": null,
   "id": "1785f879-f735-499b-a39f-8cbaf4a42546",
   "metadata": {},
   "outputs": [],
   "source": []
  }
 ],
 "metadata": {
  "kernelspec": {
   "display_name": "Python 3 (ipykernel)",
   "language": "python",
   "name": "python3"
  },
  "language_info": {
   "codemirror_mode": {
    "name": "ipython",
    "version": 3
   },
   "file_extension": ".py",
   "mimetype": "text/x-python",
   "name": "python",
   "nbconvert_exporter": "python",
   "pygments_lexer": "ipython3",
   "version": "3.9.12"
  }
 },
 "nbformat": 4,
 "nbformat_minor": 5
}
